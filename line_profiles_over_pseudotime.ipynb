{
 "cells": [
  {
   "cell_type": "code",
   "execution_count": 1,
   "metadata": {},
   "outputs": [],
   "source": [
    "import os\n",
    "\n",
    "import matplotlib.pyplot as plt\n",
    "import tifffile as tf\n",
    "import pandas as pd\n",
    "import numpy as np\n",
    "import PIL\n",
    "\n",
    "import skimage.measure as measure\n",
    "\n",
    "import line_utils"
   ]
  },
  {
   "cell_type": "code",
   "execution_count": 2,
   "metadata": {},
   "outputs": [],
   "source": [
    "# Establish the path the Excel file\n",
    "base_path = \"/Users/zachcm/Documents/Projects/ExM_Nadja/01_Macros_Analysis/\"\n",
    "workbook = \"20241008_septin2_tubulin.xlsx\"\n",
    "workbook_path = os.path.join(base_path, workbook)\n",
    "expected_colnames=['Distance_(microns)', 'MTs', 'septin2', 'DAPI']"
   ]
  },
  {
   "cell_type": "code",
   "execution_count": 3,
   "metadata": {},
   "outputs": [],
   "source": [
    "# Load the table of contents\n",
    "toc = pd.read_excel(workbook_path, sheet_name=\"ToC + P-t-p\", header=2)"
   ]
  },
  {
   "cell_type": "code",
   "execution_count": 4,
   "metadata": {},
   "outputs": [],
   "source": [
    "# load FWHM_along, which contains other statistics\n",
    "metrics = pd.read_excel(workbook_path, sheet_name=\"FWHM_along\", header=0).dropna(axis=0)"
   ]
  },
  {
   "cell_type": "code",
   "execution_count": 5,
   "metadata": {},
   "outputs": [],
   "source": [
    "metrics = line_utils.merge_df_information(toc, \n",
    "                                          metrics, \n",
    "                                          id_key=\"Label\", \n",
    "                                          mapped_keys=[\"dX (µm)\", \"dX (pxl)\", \"X1\", \"X2\", \"Angle\",\"X\",\"Y\",\"length\"])\n",
    "metrics = metrics[~metrics['X1'].isna()]\n",
    "# metrics = metrics.dropna()"
   ]
  },
  {
   "cell_type": "code",
   "execution_count": 6,
   "metadata": {},
   "outputs": [],
   "source": [
    "# Now let's get the original images...\n",
    "import glob\n",
    "\n",
    "max_proj_path = \"/Volumes/Ries_Ewers/Septin2-GFP/MaxIPs\"\n",
    "max_proj_files = glob.glob(max_proj_path+\"/*.tif\")\n",
    "\n",
    "# ...and associate the file with each metrics entry\n",
    "metrics[\"filename\"] = \"\"\n",
    "for i, ml in metrics.iterrows():\n",
    "    for fn in max_proj_files:\n",
    "        if ml[\"Label\"] in fn:\n",
    "            metrics.loc[i, \"filename\"] = fn\n",
    "            break"
   ]
  },
  {
   "cell_type": "code",
   "execution_count": 7,
   "metadata": {},
   "outputs": [],
   "source": [
    "groups = metrics.groupby('Unnamed: 0')\n",
    "\n",
    "plot_stack = None\n",
    "n_groups = len(groups)\n",
    "n_ch = 3\n",
    "for group, tup in enumerate(groups):\n",
    "    name, entries = tup\n",
    "    n_group = len(entries)\n",
    "    for i, ml in entries.iterrows():\n",
    "        # Get the image associated with this row\n",
    "        im = tf.imread(ml[\"filename\"])\n",
    "\n",
    "        # get x, y, angle, length for this row\n",
    "        x, y, angle, length = ml[[\"X\", \"Y\", \"Angle\", \"length\"]]\n",
    "\n",
    "        # Compute the line end points\n",
    "        xl, xu, yl, yu = line_utils.get_line_profile_endpoints(x, y, angle, length)\n",
    "\n",
    "        # Extract the line profiles\n",
    "        chs = measure.profile_line(im.T, \n",
    "                                [xl, yu], \n",
    "                                [xu, yl], \n",
    "                                linewidth=25)\n",
    "\n",
    "        mt, septin, dapi = chs.T\n",
    "\n",
    "        # Get the rescaling to the septin endpoints\n",
    "        xx_norm = line_utils.rescale_inds(len(mt), int(ml[\"X1\"]), int(ml[\"X2\"]))\n",
    "        xx_norm = xx_norm - 0.5\n",
    "\n",
    "        for ch, profile in enumerate([mt, septin, dapi]):\n",
    "            profile_norm = profile/profile.sum()\n",
    "            fig, ax = plt.subplots(1,1, figsize=(5,5))\n",
    "\n",
    "            # Set limits\n",
    "            ax.set_xlim([-5,5])\n",
    "            ax.set_ylim([0,0.01])\n",
    "\n",
    "            # Move left y-axis and bottom x-axis to centre, passing through (0,0)\n",
    "            ax.spines['left'].set_position('center')\n",
    "            # ax.spines['bottom'].set_position('center')\n",
    "\n",
    "            # Eliminate upper and right axes\n",
    "            ax.spines['right'].set_color('none')\n",
    "            ax.spines['top'].set_color('none')\n",
    "\n",
    "            # Show ticks in the left and lower axes only\n",
    "            ax.xaxis.set_ticks_position('bottom')\n",
    "            ax.yaxis.set_ticks_position('left')\n",
    "\n",
    "            # plot\n",
    "            ax.plot(xx_norm, profile_norm, c='k')\n",
    "\n",
    "            fig.tight_layout()\n",
    "\n",
    "            plt.savefig(\"foo.png\")\n",
    "\n",
    "            plt.close()\n",
    "\n",
    "            plot_im = np.array(PIL.Image.open(\"foo.png\").convert('L'))\n",
    "            \n",
    "            if plot_stack is None:\n",
    "                # TCYX\n",
    "                # Do this the first time b/c we don't know plot_im size\n",
    "                plot_stack = np.zeros((n_groups, n_ch, plot_im.shape[0], plot_im.shape[1]), dtype=plot_im.dtype)\n",
    "            \n",
    "            plot_stack[group, ch, ...] += ((1/n_group)*plot_im).astype(np.uint8)"
   ]
  },
  {
   "cell_type": "code",
   "execution_count": 8,
   "metadata": {},
   "outputs": [],
   "source": [
    "tf.imwrite('pseudotime_profiles.ome.tif', plot_stack, metadata={'axes': 'TCYX'}, dtype=plot_stack.dtype)"
   ]
  },
  {
   "cell_type": "code",
   "execution_count": 9,
   "metadata": {},
   "outputs": [
    {
     "name": "stdout",
     "output_type": "stream",
     "text": [
      "CS 16\n",
      "RC 1\n",
      "RS 24\n",
      "SM 34\n"
     ]
    }
   ],
   "source": [
    "for group, tup in enumerate(groups):\n",
    "    name, entries = tup\n",
    "    n_group = len(entries)\n",
    "    print(name, n_group)"
   ]
  },
  {
   "cell_type": "code",
   "execution_count": null,
   "metadata": {},
   "outputs": [],
   "source": []
  }
 ],
 "metadata": {
  "kernelspec": {
   "display_name": "expansion",
   "language": "python",
   "name": "expansion"
  },
  "language_info": {
   "codemirror_mode": {
    "name": "ipython",
    "version": 3
   },
   "file_extension": ".py",
   "mimetype": "text/x-python",
   "name": "python",
   "nbconvert_exporter": "python",
   "pygments_lexer": "ipython3",
   "version": "3.11.10"
  }
 },
 "nbformat": 4,
 "nbformat_minor": 2
}
