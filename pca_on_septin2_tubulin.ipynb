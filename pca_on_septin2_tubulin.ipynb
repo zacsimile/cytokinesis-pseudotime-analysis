{
 "cells": [
  {
   "cell_type": "code",
   "execution_count": null,
   "id": "41c30532-cf9d-43b5-864c-b0e25841c60b",
   "metadata": {},
   "outputs": [],
   "source": [
    "import line_utils\n",
    "import os\n",
    "\n",
    "import pandas as pd\n",
    "import numpy as np\n",
    "from sklearn.decomposition import PCA\n",
    "import matplotlib.pyplot as plt"
   ]
  },
  {
   "cell_type": "code",
   "execution_count": 2,
   "id": "f2996dc4-6e35-4c23-a055-5f2b0a37745c",
   "metadata": {},
   "outputs": [],
   "source": [
    "# Establish the path the Excel file\n",
    "base_path = \"/Users/zachcm/Documents/Projects/ExM_Nadja/01_Macros_Analysis/\"\n",
    "workbook = \"20241008_septin2_tubulin.xlsx\"\n",
    "workbook_path = os.path.join(base_path, workbook)\n",
    "expected_colnames=['Distance_(microns)', 'MTs', 'septin2', 'DAPI']\n"
   ]
  },
  {
   "cell_type": "code",
   "execution_count": 3,
   "id": "19f28432-9bb2-4755-8c51-1e2d35ff28cd",
   "metadata": {},
   "outputs": [],
   "source": [
    "# Load the table of contents\n",
    "toc = pd.read_excel(workbook_path, sheet_name=\"ToC + P-t-p\", header=2)"
   ]
  },
  {
   "cell_type": "code",
   "execution_count": 4,
   "id": "03837674-94c6-44f3-afd1-d850615befc9",
   "metadata": {},
   "outputs": [],
   "source": [
    "# load FWHM_along, which contains other statistics\n",
    "metrics = pd.read_excel(workbook_path, sheet_name=\"FWHM_along\", header=0).dropna(axis=0)"
   ]
  },
  {
   "cell_type": "code",
   "execution_count": 5,
   "id": "b56ce893-03dd-42ed-946a-84b7dfec4cea",
   "metadata": {},
   "outputs": [],
   "source": [
    "# Let's merge information from toc with metrics\n",
    "metrics[\"dX (µm)\"] = 0\n",
    "metrics[\"Angle\"] = np.nan\n",
    "metrics[\"X\"] = np.nan\n",
    "metrics[\"Y\"] = np.nan\n",
    "metrics[\"length\"] = np.nan\n",
    "for i, ml in metrics.iterrows():\n",
    "    # print(ml)\n",
    "    for j, tl in toc.iterrows():\n",
    "        try:\n",
    "            if tl[\"Label\"].startswith(ml[\"Label\"]):\n",
    "                # print(ml[\"Label\"], tl[\"dX (µm)\"])\n",
    "                if not np.isnan(tl[\"dX (µm)\"]):\n",
    "                    metrics.loc[i,\"dX (µm)\"] = tl[\"dX (µm)\"]\n",
    "                metrics.loc[i,\"X\"] = tl[\"X\"]\n",
    "                metrics.loc[i,\"Y\"] = tl[\"Y\"]\n",
    "                metrics.loc[i,\"length\"] = tl[\"length\"]\n",
    "                metrics.loc[i,\"Angle\"] = tl[\"Angle\"]\n",
    "        except (AttributeError, TypeError):\n",
    "            pass\n",
    "metrics = metrics.dropna()"
   ]
  },
  {
   "cell_type": "code",
   "execution_count": 6,
   "id": "d615e124-05d8-493c-9ca1-a7413b775f86",
   "metadata": {},
   "outputs": [],
   "source": [
    "# Now let's get the original images \n",
    "import glob \n",
    "\n",
    "max_proj_path = \"/Volumes/Ries_Ewers/Septin2-GFP/MaxIPs\"\n",
    "max_proj_files = glob.glob(max_proj_path+\"/*.tif\")"
   ]
  },
  {
   "cell_type": "code",
   "execution_count": null,
   "id": "4f220356-a7a3-4ba0-96b0-0475e21d1b22",
   "metadata": {},
   "outputs": [],
   "source": [
    "import tifffile\n",
    "\n",
    "from skimage.filters import threshold_otsu\n",
    "\n",
    "from contour import image_quadtree\n",
    "from contour import dual_grid_2d\n",
    "from contour import marching_squares\n",
    "from contour.util.contour import find_contours, find_connections\n",
    "\n",
    "plt.rcParams.update({'font.size': 8})\n",
    "\n",
    "# Now let's add the curvature metric\n",
    "metrics[\"curvature\"] = np.nan\n",
    "\n",
    "# M, N = 20, 4\n",
    "# fig, axs = plt.subplots(M, N, figsize=(16,80))\n",
    "# j = -1\n",
    "for i, ml in metrics.iterrows():\n",
    "    # j += 1\n",
    "    # Get the image associated with this row\n",
    "    label = ml[\"Label\"]\n",
    "    im = None\n",
    "    for fn in max_proj_files:\n",
    "        if label in fn:\n",
    "            im = tifffile.imread(fn)\n",
    "            break\n",
    "\n",
    "    # construct quadtree\n",
    "    qt = image_quadtree.ImageQuadtree(0, density_function=np.std)\n",
    "    qt.add_image(im.max(0))\n",
    "    \n",
    "    # construct dual grid\n",
    "    dg = dual_grid_2d.DualGrid2D(qt)\n",
    "    \n",
    "    # get lines\n",
    "    try:\n",
    "        ms = marching_squares.MarchingSquares(isolevel=np.mean(dg.values)-np.std(dg.values)/2)\n",
    "        ms.add_points(dg.vertices, dg.values)\n",
    "        ms.march()\n",
    "    except ValueError:\n",
    "        ms = marching_squares.MarchingSquares(isolevel=np.mean(dg.values))\n",
    "        ms.add_points(dg.vertices, dg.values)\n",
    "        ms.march()\n",
    "    \n",
    "    # get contours\n",
    "    contours = find_contours(ms._lines)\n",
    "    \n",
    "    # threshold_perimeter = np.mean(np.array([contour.perimeter for contour in contours]))\n",
    "    # threshold_perimeter = np.sort(np.array([contour.perimeter for contour in contours]))[-3]+1\n",
    "    try:\n",
    "        threshold_diameter = np.sort(np.array([contour.diameter for contour in contours]))[-3]+1\n",
    "    except IndexError:\n",
    "        try:\n",
    "            threshold_diameter = np.sort(np.array([contour.diameter for contour in contours]))[-2]+1\n",
    "        except IndexError:\n",
    "            threshold_diameter = 0 # np.sort(np.array([contour.diameter for contour in contours]))[-1]+1\n",
    "    \n",
    "\n",
    "    curvatures = []\n",
    "\n",
    "    # axs[j // N, j % N ].imshow(np.log(im.max(0)), cmap='gray')\n",
    "    # axs[j // N, j % N ].set_axis_off()\n",
    "    for contour in contours:\n",
    "        # if contour.perimeter < threshold_perimeter:\n",
    "        #     continue\n",
    "        if contour.diameter < threshold_diameter:\n",
    "            continue\n",
    "\n",
    "        curvatures.extend(contour.curvature)\n",
    "\n",
    "        # for line in contour.lines:\n",
    "        #     # print(line.shape)\n",
    "        #     axs[j // N, j % N ].plot(line[:,0], line[:,1])\n",
    "\n",
    "        # axs[j // N, j % N ].plot(contour.vertices[:,0], contour.vertices[:,1])\n",
    "\n",
    "    metrics.loc[i,\"curvature\"] = np.nanmedian(curvatures)\n",
    "    # axs[j // N, j % N ].set_title(f\"{np.nanmedian(curvatures):.2f} {ml['Unnamed: 0']}\")\n",
    "\n",
    "# while j < 79:\n",
    "#     j+= 1\n",
    "#     axs[j // N, j % N ].set_axis_off()\n",
    "\n",
    "metrics = metrics.dropna()\n",
    "# fig.tight_layout()"
   ]
  },
  {
   "cell_type": "code",
   "execution_count": 8,
   "id": "94c50b9b-2256-48a6-9aa6-077bf6314d56",
   "metadata": {},
   "outputs": [
    {
     "data": {
      "text/plain": [
       "<Axes: xlabel='Unnamed: 0', ylabel='curvature'>"
      ]
     },
     "execution_count": 8,
     "metadata": {},
     "output_type": "execute_result"
    },
    {
     "data": {
      "image/png": "[encoded data removed]",
      "text/plain": [
       "<Figure size 640x480 with 1 Axes>"
      ]
     },
     "metadata": {},
     "output_type": "display_data"
    }
   ],
   "source": [
    "import seaborn as sns\n",
    "\n",
    "sns.violinplot(data=metrics, x='Unnamed: 0', y='curvature')"
   ]
  },
  {
   "cell_type": "code",
   "execution_count": 16,
   "id": "b37194a3-5ee5-492c-921c-3bca4d66f46e",
   "metadata": {},
   "outputs": [
    {
     "data": {
      "text/plain": [
       "Text(0, 0.5, 'PC2')"
      ]
     },
     "execution_count": 16,
     "metadata": {},
     "output_type": "execute_result"
    },
    {
     "data": {
      "image/png": "[encoded data removed]",
      "text/plain": [
       "<Figure size 640x480 with 1 Axes>"
      ]
     },
     "metadata": {},
     "output_type": "display_data"
    }
   ],
   "source": [
    "# Plot PCA space \n",
    "\n",
    "features = metrics[[ \"diamM\", \"diamA\", \"dX (µm)\"]]#, \"curvature\"]]\n",
    "# features = features / features.sum(0)\n",
    "# features = np.array(features) / np.array(features).sum(0)[None,:]\n",
    "# features = features / features.sum(1)[:,None]\n",
    "features = (features - features.mean(0))/features.std(0)\n",
    "\n",
    "# stage_keys = {\"RS\": 0, \"CS\": 1, \"SM\": 2}\n",
    "stage_keys = {\"RS\": 0, \"CS\": 1, \"SM\": 2, \n",
    "               \"RC\": 3, \"BA\": 4, \"A\": 5}\n",
    "stage_cols = [stage_keys[x] for x in metrics[\"Unnamed: 0\"]]\n",
    "\n",
    "pca = PCA(n_components=2)\n",
    "pca.fit(features)\n",
    "\n",
    "xx, yy = pca.transform(features).T[:2,:]\n",
    "scatter = plt.scatter(xx, yy, c = stage_cols, cmap='gist_rainbow_r', s=20)\n",
    "plt.legend(scatter.legend_elements(num=len(stage_keys)-1)[0],list(stage_keys.keys()))\n",
    "# plt.axis([-0.2, 0.8, -0.5, 0.1])\n",
    "plt.xlabel('PC1')\n",
    "plt.ylabel('PC2')"
   ]
  },
  {
   "cell_type": "code",
   "execution_count": 17,
   "id": "edf0bb4f-b7af-4ac9-8356-5ae098608b28",
   "metadata": {},
   "outputs": [
    {
     "data": {
      "text/plain": [
       "array([1.93182268, 1.00590708])"
      ]
     },
     "execution_count": 17,
     "metadata": {},
     "output_type": "execute_result"
    }
   ],
   "source": [
    "pca.explained_variance_"
   ]
  },
  {
   "cell_type": "code",
   "execution_count": 18,
   "id": "7ef2e37d-c2cc-4e6b-8e3e-10590945861a",
   "metadata": {},
   "outputs": [
    {
     "data": {
      "text/plain": [
       "Text(0, 0.5, 'PC2')"
      ]
     },
     "execution_count": 18,
     "metadata": {},
     "output_type": "execute_result"
    },
    {
     "data": {
      "image/png": "[encoded data removed]",
      "text/plain": [
       "<Figure size 640x480 with 1 Axes>"
      ]
     },
     "metadata": {},
     "output_type": "display_data"
    }
   ],
   "source": [
    "# fit a spline through pca space\n",
    "\n",
    "def dpoly(p):\n",
    "    \"\"\"p(x) = p[0] * x**deg + ... + p[deg]\"\"\"\n",
    "    N = len(p)\n",
    "    dp = []\n",
    "    for i, coef in enumerate(p[:-1]):\n",
    "        dp.append((N-i-1)*coef)\n",
    "    return dp\n",
    "\n",
    "def point_poly_dist(x0, y0, p, return_coords=True):\n",
    "    \"\"\" (x0, y0) is a point, p is a poly as defined in np.polyfit \"\"\"\n",
    "\n",
    "    # find the derivative line at x\n",
    "    # y = m*x+b\n",
    "    z = np.poly1d(p)\n",
    "    dfit = np.poly1d(dpoly(p))\n",
    "    b = z(x0)-dfit(x0)*x0\n",
    "    m = dfit(x0)\n",
    "\n",
    "    dist = np.abs(b+m*x0-y0)/(1+m*m)\n",
    "\n",
    "    if return_coords:\n",
    "        xp = (x0 + m*y0 - m*b)/(m*m+1)\n",
    "        yp = m*xp+b\n",
    "\n",
    "        return (dist, xp, yp)\n",
    "\n",
    "    return dist\n",
    "\n",
    "fit = np.polyfit(xx, yy, 3)\n",
    "xxx = np.linspace(np.min(xx),np.max(xx),100)\n",
    "z = np.poly1d(fit)(xxx)\n",
    "\n",
    "dfit = np.poly1d(dpoly(fit))\n",
    "\n",
    "scatter = plt.scatter(xx, yy, c = stage_cols, cmap='gist_rainbow_r', s=20)\n",
    "\n",
    "# plot fit\n",
    "plt.plot(xxx, z, linestyle='--', c='k')\n",
    "# Add directionality to the fit\n",
    "# plt.arrow(xxx[-2], z[-2], xxx[-1], z[-1]-z[-2], shape='full', lw=0, length_includes_head=True, head_width=.05, color=\"k\")\n",
    "\n",
    "# plot the derivative\n",
    "# i = 80\n",
    "# plt.plot(xxx[(i-10):(i+10)], dfit(xxx[i])*xxx[(i-10):(i+10)]+z[i]-dfit(xxx[i])*xxx[i], color='b', linewidth=2)\n",
    "\n",
    "# plot shortest path from each point to the line\n",
    "dist, xp, yp = point_poly_dist(xx, yy, fit)\n",
    "permutation = np.argsort(xp)\n",
    "\n",
    "for i in range(len(xp)):\n",
    "    plt.plot([xx[i], xp[i]], [yy[i], yp[i]], c='b', linewidth=0.5)\n",
    "\n",
    "plt.legend(scatter.legend_elements(num=len(stage_keys)-1)[0],list(stage_keys.keys()))\n",
    "plt.xlabel('PC1')\n",
    "plt.ylabel('PC2')"
   ]
  },
  {
   "cell_type": "code",
   "execution_count": null,
   "id": "f639132d-2894-43a0-ac25-e0c4955f0f28",
   "metadata": {},
   "outputs": [],
   "source": [
    "# # fit and plot traveling salesman \n",
    "\n",
    "# from python_tsp.heuristics import solve_tsp_simulated_annealing\n",
    "\n",
    "# # construct a distance matrix and compute the traveling salesman path\n",
    "# idxs = np.argsort(xx)[::-1]\n",
    "# xx2 = xx[idxs]\n",
    "# yy2 = yy[idxs]\n",
    "# stage_cols2 = np.array(stage_cols)[idxs]\n",
    "\n",
    "# dist = np.sqrt((xx2[:,None] - xx2[None,:])**2 + (yy2[:,None]-yy2[None,:])**2)\n",
    "# dist[:, 0] = 0\n",
    "\n",
    "# permutation, distance = solve_tsp_simulated_annealing(dist)\n",
    "\n",
    "# scatter = plt.scatter(xx2, yy2, c = stage_cols2, cmap='gist_rainbow_r')\n",
    "# plt.plot(xx2[np.array(permutation)], yy2[np.array(permutation)])\n",
    "# # plt.plot(xx[np.array(permutation)], yy[np.array(permutation)])\n",
    "# plt.legend(scatter.legend_elements(num=len(stage_keys)-1)[0],list(stage_keys.keys()))\n",
    "# # plt.axis([-0.2, 0.8, -0.5, 0.1])\n",
    "# plt.xlabel('PC1')\n",
    "# plt.ylabel('PC2')"
   ]
  },
  {
   "cell_type": "code",
   "execution_count": null,
   "id": "10c12f16-abaf-485f-9d52-aa0ed7ba0469",
   "metadata": {},
   "outputs": [],
   "source": [
    "import scipy.ndimage as ndi\n",
    "\n",
    "def rot_and_trans_from_line_profile(im, angle, x, y, N=2048):\n",
    "    if np.any([N < x for x in im.shape]):\n",
    "        raise Exception(\"Padding is smaller than image size. Increase N.\")\n",
    "    if len(im.shape) != 3:\n",
    "        raise Exception(\"This only works for images of size 3. TODO: Extend.\")\n",
    "\n",
    "    # Pad the image\n",
    "    im_pad = np.zeros((3,N,N), dtype=im.dtype)\n",
    "    x_off, y_off = (N-im.shape[1])//2, (N-im.shape[2])//2\n",
    "    im_pad[:,x_off:(x_off+im.shape[1]),y_off:(y_off+im.shape[2])] = im\n",
    "\n",
    "    # Now translate\n",
    "    x_shift = int(im.shape[1]//2-y)\n",
    "    y_shift = int(im.shape[2]//2-x)\n",
    "    im_trans = np.roll(np.roll(im_pad, x_shift, axis=1), y_shift, axis=2)\n",
    "\n",
    "    # And rotate\n",
    "    im_rot = ndi.rotate(im_trans, -angle, axes=(2,1), reshape=False)\n",
    "\n",
    "    return im_rot"
   ]
  },
  {
   "cell_type": "code",
   "execution_count": 20,
   "id": "a0345454-29f6-4c56-9fc6-c703e9cffb12",
   "metadata": {},
   "outputs": [
    {
     "name": "stdout",
     "output_type": "stream",
     "text": [
      "129 20240723_NRK49FS2GFP_UExM_GFP-488_aTub-568_DAPI_75min_19.tif\n",
      "118 20240723_NRK49FS2GFP_UExM_GFP-488_aTub-568_DAPI_75min_35.tif\n",
      "134 20240723_NRK49FS2GFP_UExM_GFP-488_aTub-568_DAPI_45min_53.tif\n",
      "127 20240723_NRK49FS2GFP_UExM_GFP-488_aTub-568_DAPI_75min_21.tif\n",
      "126 20240723_NRK49FS2GFP_UExM_GFP-488_aTub-568_DAPI_75min_23.tif\n",
      "133 20240723_NRK49FS2GFP_UExM_GFP-488_aTub-568_DAPI_75min_02.tif\n",
      "94 20240723_NRK49FS2GFP_UExM_GFP-488_aTub-568_DAPI_75min_24.tif\n",
      "131 20240723_NRK49FS2GFP_UExM_GFP-488_aTub-568_DAPI_75min_10.tif\n",
      "124 20240723_NRK49FS2GFP_UExM_GFP-488_aTub-568_DAPI_75min_26.tif\n",
      "130 20240723_NRK49FS2GFP_UExM_GFP-488_aTub-568_DAPI_75min_12.tif\n",
      "99 20240723_NRK49FS2GFP_UExM_GFP-488_aTub-568_DAPI_75min_14.tif\n",
      "95 20240723_NRK49FS2GFP_UExM_GFP-488_aTub-568_DAPI_75min_22.tif\n",
      "128 20240723_NRK49FS2GFP_UExM_GFP-488_aTub-568_DAPI_75min_20.tif\n",
      "117 20240723_NRK49FS2GFP_UExM_GFP-488_aTub-568_DAPI_45min_33.tif\n",
      "113 20240723_NRK49FS2GFP_UExM_GFP-488_aTub-568_DAPI_45min_10.tif\n",
      "122 20240723_NRK49FS2GFP_UExM_GFP-488_aTub-568_DAPI_75min_29.tif\n",
      "96 20240723_NRK49FS2GFP_UExM_GFP-488_aTub-568_DAPI_75min_17.tif\n",
      "111 20240723_NRK49FS2GFP_UExM_GFP-488_aTub-568_DAPI_45min_23.tif\n",
      "93 20240723_NRK49FS2GFP_UExM_GFP-488_aTub-568_DAPI_75min_27.tif\n",
      "119 20240723_NRK49FS2GFP_UExM_GFP-488_aTub-568_DAPI_75min_33.tif\n",
      "100 20240723_NRK49FS2GFP_UExM_GFP-488_aTub-568_DAPI_75min_13.tif\n",
      "121 20240723_NRK49FS2GFP_UExM_GFP-488_aTub-568_DAPI_75min_31.tif\n",
      "135 20240723_NRK49FS2GFP_UExM_GFP-488_aTub-568_DAPI_45min_46.tif\n",
      "132 20240723_NRK49FS2GFP_UExM_GFP-488_aTub-568_DAPI_75min_05.tif\n",
      "116 20240723_NRK49FS2GFP_UExM_GFP-488_aTub-568_DAPI_45min_02.tif\n",
      "92 20240723_NRK49FS2GFP_UExM_GFP-488_aTub-568_DAPI_75min_30.tif\n",
      "108 20240723_NRK49FS2GFP_UExM_GFP-488_aTub-568_DAPI_45min_43.tif\n",
      "98 20240723_NRK49FS2GFP_UExM_GFP-488_aTub-568_DAPI_75min_15.tif\n",
      "123 20240723_NRK49FS2GFP_UExM_GFP-488_aTub-568_DAPI_75min_28.tif\n",
      "104 20240723_NRK49FS2GFP_UExM_GFP-488_aTub-568_DAPI_75min_01.tif\n",
      "112 20240723_NRK49FS2GFP_UExM_GFP-488_aTub-568_DAPI_45min_21.tif\n",
      "110 20240723_NRK49FS2GFP_UExM_GFP-488_aTub-568_DAPI_45min_30.tif\n",
      "91 20240723_NRK49FS2GFP_UExM_GFP-488_aTub-568_DAPI_75min_34.tif\n",
      "102 20240723_NRK49FS2GFP_UExM_GFP-488_aTub-568_DAPI_75min_09.tif\n",
      "97 20240723_NRK49FS2GFP_UExM_GFP-488_aTub-568_DAPI_75min_16.tif\n",
      "125 20240723_NRK49FS2GFP_UExM_GFP-488_aTub-568_DAPI_75min_25.tif\n",
      "101 20240723_NRK49FS2GFP_UExM_GFP-488_aTub-568_DAPI_75min_11.tif\n",
      "103 20240723_NRK49FS2GFP_UExM_GFP-488_aTub-568_DAPI_75min_06.tif\n",
      "120 20240723_NRK49FS2GFP_UExM_GFP-488_aTub-568_DAPI_75min_32.tif\n",
      "114 20240723_NRK49FS2GFP_UExM_GFP-488_aTub-568_DAPI_45min_04.tif\n",
      "115 20240723_NRK49FS2GFP_UExM_GFP-488_aTub-568_DAPI_45min_03.tif\n",
      "109 20240723_NRK49FS2GFP_UExM_GFP-488_aTub-568_DAPI_45min_39.tif\n",
      "48 20240723_NRK49FS2GFP_UExM_GFP-488_aTub-568_DAPI_45min_15.tif\n",
      "105 20240723_NRK49FS2GFP_UExM_GFP-488_aTub-568_DAPI_45min_73.tif\n",
      "58 20240726_NRK49FS2GFP_UExM_GFP-488_aTub-568_DAPI_45min_12.tif\n",
      "85 20240723_NRK49FS2GFP_UExM_GFP-488_aTub-568_DAPI_45min_13.tif\n",
      "50 20240723_NRK49FS2GFP_UExM_GFP-488_aTub-568_DAPI_45min_11.tif\n",
      "86 20240723_NRK49FS2GFP_UExM_GFP-488_aTub-568_DAPI_45min_09.tif\n",
      "107 20240723_NRK49FS2GFP_UExM_GFP-488_aTub-568_DAPI_45min_56.tif\n",
      "89 20240719_NRK49FS2GFP_UExM_GFP-488_aTub-568_DAPI_25min_19.tif\n",
      "62 20240723_NRK49FS2GFP_UExM_GFP-488_aTub-568_DAPI_45min_60.tif\n",
      "49 20240723_NRK49FS2GFP_UExM_GFP-488_aTub-568_DAPI_45min_12.tif\n",
      "31 20240719_NRK49FS2GFP_UExM_GFP-488_aTub-568_DAPI_25min_04.tif\n",
      "76 20240723_NRK49FS2GFP_UExM_GFP-488_aTub-568_DAPI_45min_34.tif\n",
      "34 20240726_NRK49FS2GFP_UExM_GFP-488_aTub-568_DAPI_45min_38.tif\n",
      "59 20240723_NRK49FS2GFP_UExM_GFP-488_aTub-568_DAPI_75min_18.tif\n",
      "80 20240723_NRK49FS2GFP_UExM_GFP-488_aTub-568_DAPI_45min_25.tif\n",
      "47 20240723_NRK49FS2GFP_UExM_GFP-488_aTub-568_DAPI_45min_19.tif\n",
      "57 20240726_NRK49FS2GFP_UExM_GFP-488_aTub-568_DAPI_45min_53.tif\n",
      "90 20240719_NRK49FS2GFP_UExM_GFP-488_aTub-568_DAPI_25min_05.tif\n",
      "18 20240726_NRK49FS2GFP_UExM_GFP-488_aTub-568_DAPI_45min_25.tif\n",
      "79 20240723_NRK49FS2GFP_UExM_GFP-488_aTub-568_DAPI_45min_26.tif\n",
      "81 20240723_NRK49FS2GFP_UExM_GFP-488_aTub-568_DAPI_45min_24.tif\n",
      "63 20240723_NRK49FS2GFP_UExM_GFP-488_aTub-568_DAPI_45min_58.tif\n",
      "40 20240726_NRK49FS2GFP_UExM_GFP-488_aTub-568_DAPI_45min_05.tif\n",
      "70 20240723_NRK49FS2GFP_UExM_GFP-488_aTub-568_DAPI_45min_48.tif\n",
      "72 20240723_NRK49FS2GFP_UExM_GFP-488_aTub-568_DAPI_45min_41.tif\n",
      "83 20240723_NRK49FS2GFP_UExM_GFP-488_aTub-568_DAPI_45min_17.tif\n",
      "82 20240723_NRK49FS2GFP_UExM_GFP-488_aTub-568_DAPI_45min_22.tif\n",
      "71 20240723_NRK49FS2GFP_UExM_GFP-488_aTub-568_DAPI_45min_42.tif\n",
      "61 20240723_NRK49FS2GFP_UExM_GFP-488_aTub-568_DAPI_45min_70.tif\n",
      "73 20240723_NRK49FS2GFP_UExM_GFP-488_aTub-568_DAPI_45min_38.tif\n",
      "84 20240723_NRK49FS2GFP_UExM_GFP-488_aTub-568_DAPI_45min_16.tif\n",
      "78 20240723_NRK49FS2GFP_UExM_GFP-488_aTub-568_DAPI_45min_31.tif\n",
      "60 20240723_NRK49FS2GFP_UExM_GFP-488_aTub-568_DAPI_45min_71.tif\n",
      "2 20240723_NRK49FS2GFP_UExM_GFP-488_aTub-568_DAPI_45min_44.tif\n",
      "87 20240723_NRK49FS2GFP_UExM_GFP-488_aTub-568_DAPI_45min_06.tif\n",
      "51 20240723_NRK49FS2GFP_UExM_GFP-488_aTub-568_DAPI_45min_07.tif\n",
      "77 20240723_NRK49FS2GFP_UExM_GFP-488_aTub-568_DAPI_45min_32.tif\n",
      "36 20240726_NRK49FS2GFP_UExM_GFP-488_aTub-568_DAPI_45min_35.tif\n",
      "66 20240723_NRK49FS2GFP_UExM_GFP-488_aTub-568_DAPI_45min_52.tif\n",
      "88 20240723_NRK49FS2GFP_UExM_GFP-488_aTub-568_DAPI_45min_05.tif\n",
      "74 20240723_NRK49FS2GFP_UExM_GFP-488_aTub-568_DAPI_45min_37.tif\n",
      "65 20240723_NRK49FS2GFP_UExM_GFP-488_aTub-568_DAPI_45min_55.tif\n",
      "64 20240723_NRK49FS2GFP_UExM_GFP-488_aTub-568_DAPI_45min_57.tif\n",
      "69 20240723_NRK49FS2GFP_UExM_GFP-488_aTub-568_DAPI_45min_49.tif\n",
      "75 20240723_NRK49FS2GFP_UExM_GFP-488_aTub-568_DAPI_45min_35.tif\n",
      "22 20240723_NRK49FS2GFP_UExM_GFP-488_aTub-568_DAPI_45min_20.tif\n",
      "67 20240723_NRK49FS2GFP_UExM_GFP-488_aTub-568_DAPI_45min_51.tif\n",
      "68 20240723_NRK49FS2GFP_UExM_GFP-488_aTub-568_DAPI_45min_50.tif\n",
      "44 20240723_NRK49FS2GFP_UExM_GFP-488_aTub-568_DAPI_45min_40.tif\n",
      "35 20240726_NRK49FS2GFP_UExM_GFP-488_aTub-568_DAPI_45min_36.tif\n",
      "23 20240719_NRK49FS2GFP_UExM_GFP-488_aTub-568_DAPI_25min_46.tif\n",
      "45 20240723_NRK49FS2GFP_UExM_GFP-488_aTub-568_DAPI_45min_36.tif\n",
      "53 20240719_NRK49FS2GFP_UExM_GFP-488_aTub-568_DAPI_25min_32.tif\n",
      "27 20240719_NRK49FS2GFP_UExM_GFP-488_aTub-568_DAPI_25min_16.tif\n",
      "25 20240719_NRK49FS2GFP_UExM_GFP-488_aTub-568_DAPI_25min_37.tif\n",
      "19 20240723_NRK49FS2GFP_UExM_GFP-488_aTub-568_DAPI_45min_67.tif\n",
      "6 20240719_NRK49FS2GFP_UExM_GFP-488_aTub-568_DAPI_25min_33.tif\n",
      "52 20240723_NRK49FS2GFP_UExM_GFP-488_aTub-568_DAPI_45min_01.tif\n",
      "17 20240726_NRK49FS2GFP_UExM_GFP-488_aTub-568_DAPI_45min_37.tif\n",
      "39 20240726_NRK49FS2GFP_UExM_GFP-488_aTub-568_DAPI_45min_15.tif\n",
      "55 20240719_NRK49FS2GFP_UExM_GFP-488_aTub-568_DAPI_25min_22.tif\n",
      "54 20240719_NRK49FS2GFP_UExM_GFP-488_aTub-568_DAPI_25min_28.tif\n",
      "106 20240723_NRK49FS2GFP_UExM_GFP-488_aTub-568_DAPI_45min_63.tif\n",
      "56 20240719_NRK49FS2GFP_UExM_GFP-488_aTub-568_DAPI_25min_18.tif\n",
      "13 20240719_NRK49FS2GFP_UExM_GFP-488_aTub-568_DAPI_25min_10.tif\n",
      "24 20240719_NRK49FS2GFP_UExM_GFP-488_aTub-568_DAPI_25min_43.tif\n",
      "43 20240723_NRK49FS2GFP_UExM_GFP-488_aTub-568_DAPI_45min_61.tif\n",
      "32 20240719_NRK49FS2GFP_UExM_GFP-488_aTub-568_DAPI_25min_02.tif\n",
      "41 20240723_NRK49FS2GFP_UExM_GFP-488_aTub-568_DAPI_45min_68.tif\n",
      "0 20240723_NRK49FS2GFP_UExM_GFP-488_aTub-568_DAPI_45min_69.tif\n",
      "46 20240723_NRK49FS2GFP_UExM_GFP-488_aTub-568_DAPI_45min_28.tif\n",
      "38 20240726_NRK49FS2GFP_UExM_GFP-488_aTub-568_DAPI_45min_24.tif\n",
      "30 20240719_NRK49FS2GFP_UExM_GFP-488_aTub-568_DAPI_25min_07.tif\n",
      "42 20240723_NRK49FS2GFP_UExM_GFP-488_aTub-568_DAPI_45min_65.tif\n",
      "21 20240723_NRK49FS2GFP_UExM_GFP-488_aTub-568_DAPI_45min_47.tif\n",
      "28 20240719_NRK49FS2GFP_UExM_GFP-488_aTub-568_DAPI_25min_12.tif\n",
      "26 20240719_NRK49FS2GFP_UExM_GFP-488_aTub-568_DAPI_25min_36.tif\n",
      "5 20240719_NRK49FS2GFP_UExM_GFP-488_aTub-568_DAPI_25min_36.tif\n",
      "37 20240726_NRK49FS2GFP_UExM_GFP-488_aTub-568_DAPI_45min_34.tif\n",
      "1 20240723_NRK49FS2GFP_UExM_GFP-488_aTub-568_DAPI_45min_66.tif\n",
      "29 20240719_NRK49FS2GFP_UExM_GFP-488_aTub-568_DAPI_25min_11.tif\n",
      "33 20240726_NRK49FS2GFP_UExM_GFP-488_aTub-568_DAPI_45min_39.tif\n",
      "8 20240719_NRK49FS2GFP_UExM_GFP-488_aTub-568_DAPI_25min_26.tif\n",
      "11 20240719_NRK49FS2GFP_UExM_GFP-488_aTub-568_DAPI_25min_14.tif\n",
      "10 20240719_NRK49FS2GFP_UExM_GFP-488_aTub-568_DAPI_25min_17.tif\n",
      "20 20240723_NRK49FS2GFP_UExM_GFP-488_aTub-568_DAPI_45min_54.tif\n",
      "14 20240719_NRK49FS2GFP_UExM_GFP-488_aTub-568_DAPI_25min_09.tif\n",
      "7 20240719_NRK49FS2GFP_UExM_GFP-488_aTub-568_DAPI_25min_29.tif\n",
      "12 20240719_NRK49FS2GFP_UExM_GFP-488_aTub-568_DAPI_25min_13.tif\n",
      "4 20240719_NRK49FS2GFP_UExM_GFP-488_aTub-568_DAPI_25min_38.tif\n",
      "16 20240719_NRK49FS2GFP_UExM_GFP-488_aTub-568_DAPI_25min_03.tif\n",
      "3 20240719_NRK49FS2GFP_UExM_GFP-488_aTub-568_DAPI_25min_42.tif\n",
      "15 20240719_NRK49FS2GFP_UExM_GFP-488_aTub-568_DAPI_25min_08.tif\n",
      "9 20240719_NRK49FS2GFP_UExM_GFP-488_aTub-568_DAPI_25min_23.tif\n"
     ]
    }
   ],
   "source": [
    "import tifffile\n",
    "\n",
    "# Loop over these files\n",
    "\n",
    "files = []\n",
    "images = []\n",
    "\n",
    "# for i, label in zip(idxs[permutation], metrics.iloc[idxs[permutation]]['Label']):\n",
    "for i, label in zip(permutation, metrics.iloc[permutation]['Label']):\n",
    "    print(i, label)\n",
    "    for fn in max_proj_files:\n",
    "        if label in fn:\n",
    "            files.append(fn)\n",
    "            im = tifffile.imread(fn)\n",
    "            im_rot = rot_and_trans_from_line_profile(im, \n",
    "                                                     metrics['Angle'].iloc[i], \n",
    "                                                     metrics['X'].iloc[i],\n",
    "                                                     metrics['Y'].iloc[i])\n",
    "            images.append(im_rot)\n",
    "            break\n",
    "\n",
    "# >>> data = numpy.random.randint(0, 255, (30, 301, 219), 'uint8')\n",
    "# >>> with TiffWriter('temp.tif') as tif:\n",
    "# ...     for frame in data:\n",
    "# ...         tif.write(frame, contiguous=True)\n",
    "# ..."
   ]
  },
  {
   "cell_type": "code",
   "execution_count": 21,
   "id": "b139a8de-3a6a-4df9-97dc-b9e3b0d8f4cd",
   "metadata": {},
   "outputs": [],
   "source": [
    "images = np.array(images)\n",
    "tifffile.imwrite(\"septin2_proj.tif\", images[::-1,...])"
   ]
  },
  {
   "cell_type": "code",
   "execution_count": null,
   "id": "58947410-c5bd-456e-aec5-a32a7e1b032e",
   "metadata": {},
   "outputs": [],
   "source": []
  },
  {
   "cell_type": "code",
   "execution_count": null,
   "id": "5ee754a3-8768-462e-bf43-fa4f9f547716",
   "metadata": {},
   "outputs": [],
   "source": [
    "plt.imshow(np.log(im[1,...]),cmap='gray')"
   ]
  },
  {
   "cell_type": "code",
   "execution_count": null,
   "id": "c994a07f-598d-44e9-a566-77ce0bc852f0",
   "metadata": {},
   "outputs": [],
   "source": [
    "import scipy.ndimage as ndi\n",
    "\n",
    "gauss_20 = ndi.gaussian_filter(im[1:,...].max(0),20)\n",
    "gauss_10 = ndi.gaussian_filter(im[1:,...].max(0),10)\n",
    "gauss_diff = gauss_10.astype(float)-gauss_20.astype(float)\n",
    "# gauss_diff = ndi.gaussian_laplace(im.max(0),sigma=3)\n",
    "\n",
    "plt.imshow(gauss_diff, cmap='gray')"
   ]
  },
  {
   "cell_type": "code",
   "execution_count": null,
   "id": "dd5c078f-41a2-48e1-b78b-256c9244d8ff",
   "metadata": {},
   "outputs": [],
   "source": []
  },
  {
   "cell_type": "code",
   "execution_count": null,
   "id": "d6ec49a2-b66a-4598-8306-6a44251e0b10",
   "metadata": {},
   "outputs": [],
   "source": []
  }
 ],
 "metadata": {
  "kernelspec": {
   "display_name": "expansion",
   "language": "python",
   "name": "expansion"
  },
  "language_info": {
   "codemirror_mode": {
    "name": "ipython",
    "version": 3
   },
   "file_extension": ".py",
   "mimetype": "text/x-python",
   "name": "python",
   "nbconvert_exporter": "python",
   "pygments_lexer": "ipython3",
   "version": "3.11.10"
  }
 },
 "nbformat": 4,
 "nbformat_minor": 5
}
